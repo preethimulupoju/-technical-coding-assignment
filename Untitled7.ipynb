{
  "nbformat": 4,
  "nbformat_minor": 0,
  "metadata": {
    "colab": {
      "provenance": [],
      "authorship_tag": "ABX9TyPjCevnwxiQiT+VqLaUP5/f",
      "include_colab_link": true
    },
    "kernelspec": {
      "name": "python3",
      "display_name": "Python 3"
    },
    "language_info": {
      "name": "python"
    }
  },
  "cells": [
    {
      "cell_type": "markdown",
      "metadata": {
        "id": "view-in-github",
        "colab_type": "text"
      },
      "source": [
        "<a href=\"https://colab.research.google.com/github/preethimulupoju/-technical-coding-assignment/blob/main/Untitled7.ipynb\" target=\"_parent\"><img src=\"https://colab.research.google.com/assets/colab-badge.svg\" alt=\"Open In Colab\"/></a>"
      ]
    },
    {
      "cell_type": "code",
      "source": [
        "class Node:\n",
        "    def __init__(self, key):\n",
        "        self.left = None\n",
        "        self.right = None\n",
        "        self.val = key\n",
        "\n",
        "    # Traverse preorder\n",
        "    def traversePreOrder(self):\n",
        "        print(self.val, end=' ')\n",
        "        if self.left:\n",
        "            self.left.traversePreOrder()\n",
        "        if self.right:\n",
        "            self.right.traversePreOrder()\n",
        "\n",
        "    # Traverse inorder\n",
        "    def traverseInOrder(self):\n",
        "        if self.left:\n",
        "            self.left.traverseInOrder()\n",
        "        print(self.val, end=' ')\n",
        "        if self.right:\n",
        "            self.right.traverseInOrder()\n",
        "\n",
        "    # Traverse postorder\n",
        "    def traversePostOrder(self):\n",
        "        if self.left:\n",
        "            self.left.traversePostOrder()\n",
        "        if self.right:\n",
        "            self.right.traversePostOrder()\n",
        "        print(self.val, end=' ')\n",
        "\n",
        "\n",
        "root = Node(1)\n",
        "\n",
        "root.left = Node(2)\n",
        "root.right = Node(3)\n",
        "\n",
        "root.left.left = Node(4)\n",
        "\n",
        "print(\"Pre order Traversal: \", end=\"\")\n",
        "root.traversePreOrder()\n",
        "print(\"\\nIn order Traversal: \", end=\"\")\n",
        "root.traverseInOrder()\n",
        "print(\"\\nPost order Traversal: \", end=\"\")\n",
        "root.traversePostOrder()"
      ],
      "metadata": {
        "colab": {
          "base_uri": "https://localhost:8080/"
        },
        "id": "kqA2vCZpC9iI",
        "outputId": "71fd4bc5-40b7-450c-a9c1-52a0231e6a21"
      },
      "execution_count": 2,
      "outputs": [
        {
          "output_type": "stream",
          "name": "stdout",
          "text": [
            "Pre order Traversal: 1 2 4 3 \n",
            "In order Traversal: 4 2 1 3 \n",
            "Post order Traversal: 4 2 3 1 "
          ]
        }
      ]
    },
    {
      "cell_type": "markdown",
      "source": [
        "Find height of a given tree"
      ],
      "metadata": {
        "id": "UhO7Z6aVEKK-"
      }
    },
    {
      "cell_type": "code",
      "source": [
        "class Node:\n",
        "   \n",
        "    # Constructor to create a new node\n",
        "    def __init__(self, data):\n",
        "        self.key = data\n",
        "        self.left = None\n",
        "        self.right = None\n",
        "   \n",
        "# Function to find height of tree\n",
        "def height(root):\n",
        "    # Base Case\n",
        "    if root is None:\n",
        "        return 0\n",
        "   \n",
        "    # Create an empty queue for level order traversal\n",
        "    q = []\n",
        "   \n",
        "    # Enqueue Root and initialize height\n",
        "    q.append(root)\n",
        "    height = 0\n",
        "   \n",
        "    # Loop while queue is not empty\n",
        "    while q:\n",
        "   \n",
        "        # nodeCount (queue size) indicates number of nodes\n",
        "        # at current level\n",
        "        nodeCount = len(q)\n",
        "   \n",
        "        # Dequeue all nodes of current level and Enqueue all\n",
        "        # nodes of next level\n",
        "        while nodeCount > 0:\n",
        "            node = q.pop(0)\n",
        "            if node.left is not None:\n",
        "                q.append(node.left)\n",
        "            if node.right is not None:\n",
        "                q.append(node.right)\n",
        "            nodeCount -= 1\n",
        "        height += 1\n",
        "   \n",
        "    return height\n",
        "   \n",
        "# Driver Code\n",
        "root = Node(1)\n",
        "root.left = Node(2)\n",
        "root.right = Node(3)\n",
        "root.left.left = Node(4)\n",
        "root.left.right = Node(5)\n",
        "   \n",
        "print(\"Height(Depth) of tree is\", height(root))"
      ],
      "metadata": {
        "colab": {
          "base_uri": "https://localhost:8080/"
        },
        "id": "8HzEEwUiESMv",
        "outputId": "1caeca98-695a-40e3-c8b1-9a5257794883"
      },
      "execution_count": 3,
      "outputs": [
        {
          "output_type": "stream",
          "name": "stdout",
          "text": [
            "Height(Depth) of tree is 3\n"
          ]
        }
      ]
    },
    {
      "cell_type": "markdown",
      "source": [
        "Perform Pre-order, Post-order, In-order traversal"
      ],
      "metadata": {
        "id": "wE-HXcktFHIi"
      }
    },
    {
      "cell_type": "code",
      "source": [
        "class Node:\n",
        "    def __init__(self, v):\n",
        "        self.left = None\n",
        "        self.right = None\n",
        "        self.data = v\n",
        " \n",
        "# Inorder Traversal\n",
        "def printInorder(root):\n",
        "    if root:\n",
        "        # Traverse left subtree\n",
        "        printInorder(root.left)\n",
        "         \n",
        "        # Visit node\n",
        "        print(root.data,end=\" \")\n",
        "         \n",
        "        # Traverse right subtree\n",
        "        printInorder(root.right)\n",
        " \n",
        "# Driver code\n",
        "if __name__ == \"__main__\":\n",
        "    # Build the tree\n",
        "    root = Node(100)\n",
        "    root.left = Node(20)\n",
        "    root.right = Node(200)\n",
        "    root.left.left = Node(10)\n",
        "    root.left.right = Node(30)\n",
        "    root.right.left = Node(150)\n",
        "    root.right.right = Node(300)\n",
        " \n",
        "    # Function call\n",
        "    print(\"Inorder Traversal:\",end=\" \")\n",
        "    printInorder(root)\n",
        " "
      ],
      "metadata": {
        "colab": {
          "base_uri": "https://localhost:8080/"
        },
        "id": "IO1P42tHFNzf",
        "outputId": "60886d47-3ef7-457e-b0f9-14014412097b"
      },
      "execution_count": 4,
      "outputs": [
        {
          "output_type": "stream",
          "name": "stdout",
          "text": [
            "Inorder Traversal: 10 20 30 100 150 200 300 "
          ]
        }
      ]
    },
    {
      "cell_type": "code",
      "source": [
        "class Node:\n",
        "    def __init__(self, v):\n",
        "        self.data = v\n",
        "        self.left = None\n",
        "        self.right = None\n",
        " \n",
        "# Preorder Traversal\n",
        "def printPreOrder(node):\n",
        "    if node is None:\n",
        "        return\n",
        "    # Visit Node\n",
        "    print(node.data, end = \" \")\n",
        " \n",
        "    # Traverse left subtree\n",
        "    printPreOrder(node.left)\n",
        " \n",
        "    # Traverse right subtree\n",
        "    printPreOrder(node.right)\n",
        " \n",
        "# Driver code\n",
        "if __name__ == \"__main__\":\n",
        "    # Build the tree\n",
        "    root = Node(100)\n",
        "    root.left = Node(20)\n",
        "    root.right = Node(200)\n",
        "    root.left.left = Node(10)\n",
        "    root.left.right = Node(30)\n",
        "    root.right.left = Node(150)\n",
        "    root.right.right = Node(300)\n",
        " \n",
        "    # Function call\n",
        "    print(\"Preorder Traversal: \", end = \"\")\n",
        "    printPreOrder(root)"
      ],
      "metadata": {
        "colab": {
          "base_uri": "https://localhost:8080/"
        },
        "id": "5PoATYoOFdxc",
        "outputId": "cbad0b34-4492-4ac4-f86c-8afff16a490f"
      },
      "execution_count": 5,
      "outputs": [
        {
          "output_type": "stream",
          "name": "stdout",
          "text": [
            "Preorder Traversal: 100 20 10 30 200 150 300 "
          ]
        }
      ]
    },
    {
      "cell_type": "code",
      "source": [
        "class Node:\n",
        "    def __init__(self, v):\n",
        "        self.data = v\n",
        "        self.left = None\n",
        "        self.right = None\n",
        " \n",
        "# Preorder Traversal\n",
        "def printPostOrder(node):\n",
        "    if node is None:\n",
        "        return\n",
        " \n",
        "    # Traverse left subtree\n",
        "    printPostOrder(node.left)\n",
        " \n",
        "    # Traverse right subtree\n",
        "    printPostOrder(node.right)\n",
        "     \n",
        "    # Visit Node\n",
        "    print(node.data, end = \" \")\n",
        " \n",
        "# Driver code\n",
        "if __name__ == \"__main__\":\n",
        "    # Build the tree\n",
        "    root = Node(100)\n",
        "    root.left = Node(20)\n",
        "    root.right = Node(200)\n",
        "    root.left.left = Node(10)\n",
        "    root.left.right = Node(30)\n",
        "    root.right.left = Node(150)\n",
        "    root.right.right = Node(300)\n",
        " \n",
        "    # Function call\n",
        "    print(\"Postorder Traversal: \", end = \"\")\n",
        "    printPostOrder(root)"
      ],
      "metadata": {
        "colab": {
          "base_uri": "https://localhost:8080/"
        },
        "id": "1pQlD1fOFjUu",
        "outputId": "faf48e3a-c3c1-494a-d222-b53c3f15e9df"
      },
      "execution_count": 6,
      "outputs": [
        {
          "output_type": "stream",
          "name": "stdout",
          "text": [
            "Postorder Traversal: 10 30 20 150 300 200 100 "
          ]
        }
      ]
    },
    {
      "cell_type": "markdown",
      "source": [
        "Function to print all the leaves in a given binary tree"
      ],
      "metadata": {
        "id": "HCPdjl5FFp6T"
      }
    },
    {
      "cell_type": "code",
      "source": [
        "class Node:\n",
        "   \n",
        "    def __init__(self, data):\n",
        "        self.data = data\n",
        "        self.left = None\n",
        "        self.right = None\n",
        " \n",
        "# Function to print leaf\n",
        "# nodes from left to right\n",
        "def printLeafNodes(root: Node) -> None:\n",
        " \n",
        "    # If node is null, return\n",
        "    if (not root):\n",
        "        return\n",
        " \n",
        "    # If node is leaf node,\n",
        "    # print its data\n",
        "    if (not root.left and\n",
        "        not root.right):\n",
        "        print(root.data,\n",
        "              end = \" \")\n",
        "        return\n",
        " \n",
        "    # If left child exists,\n",
        "    # check for leaf recursively\n",
        "    if root.left:\n",
        "        printLeafNodes(root.left)\n",
        " \n",
        "    # If right child exists,\n",
        "    # check for leaf recursively\n",
        "    if root.right:\n",
        "        printLeafNodes(root.right)\n",
        " \n",
        "# Driver Code\n",
        "if __name__ == \"__main__\":\n",
        " \n",
        "    # Let us create binary tree shown in\n",
        "    # above diagram\n",
        "    root = Node(1)\n",
        "    root.left = Node(2)\n",
        "    root.right = Node(3)\n",
        "    root.left.left = Node(4)\n",
        "    root.right.left = Node(5)\n",
        "    root.right.right = Node(8)\n",
        "    root.right.left.left = Node(6)\n",
        "    root.right.left.right = Node(7)\n",
        "    root.right.right.left = Node(9)\n",
        "    root.right.right.right = Node(10)\n",
        " \n",
        "    # print leaf nodes of the given tree\n",
        "    printLeafNodes(root)\n",
        " "
      ],
      "metadata": {
        "colab": {
          "base_uri": "https://localhost:8080/"
        },
        "id": "Kve_IvIaFt4q",
        "outputId": "aea9cb93-2baf-45b3-f0f4-2d03e8b39c45"
      },
      "execution_count": 7,
      "outputs": [
        {
          "output_type": "stream",
          "name": "stdout",
          "text": [
            "4 6 7 9 10 "
          ]
        }
      ]
    },
    {
      "cell_type": "markdown",
      "source": [
        "Implement BFS (Breath First Search) and DFS (Depth First Search)"
      ],
      "metadata": {
        "id": "2dPNzTKVGM22"
      }
    },
    {
      "cell_type": "code",
      "source": [
        "import collections\n",
        "\n",
        "# BFS algorithm\n",
        "def bfs(graph, root):\n",
        "\n",
        "    visited, queue = set(), collections.deque([root])\n",
        "    visited.add(root)\n",
        "\n",
        "    while queue:\n",
        "\n",
        "        # Dequeue a vertex from queue\n",
        "        vertex = queue.popleft()\n",
        "        print(str(vertex) + \" \", end=\"\")\n",
        "\n",
        "        # If not visited, mark it as visited, and\n",
        "        # enqueue it\n",
        "        for neighbour in graph[vertex]:\n",
        "            if neighbour not in visited:\n",
        "                visited.add(neighbour)\n",
        "                queue.append(neighbour)\n",
        "\n",
        "\n",
        "if __name__ == '__main__':\n",
        "    graph = {0: [1, 2], 1: [2], 2: [3], 3: [1, 2]}\n",
        "    print(\"Following is Breadth First Traversal: \")\n",
        "    bfs(graph, 0)"
      ],
      "metadata": {
        "colab": {
          "base_uri": "https://localhost:8080/"
        },
        "id": "VhDUFNAyGRpm",
        "outputId": "ddbb0684-c96a-4d37-8bf5-dd145e538bf6"
      },
      "execution_count": 8,
      "outputs": [
        {
          "output_type": "stream",
          "name": "stdout",
          "text": [
            "Following is Breadth First Traversal: \n",
            "0 1 2 3 "
          ]
        }
      ]
    },
    {
      "cell_type": "code",
      "source": [
        "def dfs(graph, start, visited=None):\n",
        "    if visited is None:\n",
        "        visited = set()\n",
        "    visited.add(start)\n",
        "\n",
        "    print(start)\n",
        "\n",
        "    for next in graph[start] - visited:\n",
        "        dfs(graph, next, visited)\n",
        "    return visited\n",
        "\n",
        "\n",
        "graph = {'0': set(['1', '2']),\n",
        "         '1': set(['0', '3', '4']),\n",
        "         '2': set(['0']),\n",
        "         '3': set(['1']),\n",
        "         '4': set(['2', '3'])}\n",
        "\n",
        "dfs(graph, '0')"
      ],
      "metadata": {
        "colab": {
          "base_uri": "https://localhost:8080/"
        },
        "id": "wm6GVPPYGxrk",
        "outputId": "fa7529cc-4782-4282-99d1-98488b63415f"
      },
      "execution_count": 9,
      "outputs": [
        {
          "output_type": "stream",
          "name": "stdout",
          "text": [
            "0\n",
            "1\n",
            "4\n",
            "2\n",
            "3\n",
            "3\n",
            "2\n"
          ]
        },
        {
          "output_type": "execute_result",
          "data": {
            "text/plain": [
              "{'0', '1', '2', '3', '4'}"
            ]
          },
          "metadata": {},
          "execution_count": 9
        }
      ]
    },
    {
      "cell_type": "markdown",
      "source": [
        "Find sum of all left leaves in a given Binary Tree"
      ],
      "metadata": {
        "id": "BCOG5xKXG9E0"
      }
    },
    {
      "cell_type": "code",
      "source": [
        "class Node:\n",
        "    # Constructor to create a new Node\n",
        "    def __init__(self, key):\n",
        "        self.key = key\n",
        "        self.left = None\n",
        "        self.right = None\n",
        " \n",
        "# A utility function to check if a given node is leaf or not\n",
        "def isLeaf(node):\n",
        "    if node is None:\n",
        "        return False\n",
        "    if node.left is None and node.right is None:\n",
        "        return True\n",
        "    return False\n",
        " \n",
        "# This function return sum of all left leaves in a\n",
        "# given binary tree\n",
        "def leftLeavesSum(root):\n",
        " \n",
        "    # Initialize result\n",
        "    res = 0\n",
        "     \n",
        "    # Update result if root is not None\n",
        "    if root is not None:\n",
        " \n",
        "        # If left of root is None, then add key of\n",
        "        # left child\n",
        "        if isLeaf(root.left):\n",
        "            res += root.left.key\n",
        "        else:\n",
        "            # Else recur for left child of root\n",
        "            res += leftLeavesSum(root.left)\n",
        " \n",
        "        # Recur for right child of root and update res\n",
        "        res += leftLeavesSum(root.right)\n",
        "    return res\n",
        " \n",
        "# Driver program to test above function\n",
        " \n",
        "# Let us construct the Binary Tree shown in the above function\n",
        "root = Node(20)\n",
        "root.left = Node(9)\n",
        "root.right = Node(49)\n",
        "root.right.left = Node(23)       \n",
        "root.right.right = Node(52)\n",
        "root.right.right.left = Node(50)\n",
        "root.left.left = Node(5)\n",
        "root.left.right = Node(12)\n",
        "root.left.right.right = Node(12)\n",
        "print (\"Sum of left leaves is\", leftLeavesSum(root))"
      ],
      "metadata": {
        "colab": {
          "base_uri": "https://localhost:8080/"
        },
        "id": "0ZXu3fuMHaIM",
        "outputId": "34603d16-3e91-4e19-d1e5-fde7c1ea7777"
      },
      "execution_count": 10,
      "outputs": [
        {
          "output_type": "stream",
          "name": "stdout",
          "text": [
            "Sum of left leaves is 78\n"
          ]
        }
      ]
    },
    {
      "cell_type": "markdown",
      "source": [
        "Find sum of all nodes of the given perfect binary tree"
      ],
      "metadata": {
        "id": "-q--Ak0WHgHC"
      }
    },
    {
      "cell_type": "code",
      "source": [
        "def SumNodes(l):\n",
        "     \n",
        "    # no of leaf nodes\n",
        "    leafNodeCount = pow(2, l - 1)\n",
        " \n",
        "    # list of vector to store nodes of\n",
        "    # all of the levels\n",
        "    vec = [[] for i in range(l)]\n",
        " \n",
        "    # store the nodes of last level\n",
        "    # i.e., the leaf nodes\n",
        "    for i in range(1, leafNodeCount + 1):\n",
        "        vec[l - 1].append(i)\n",
        " \n",
        "    # store nodes of rest of the level\n",
        "    # by moving in bottom-up manner\n",
        "    for i in range(l - 2, -1, -1):\n",
        "        k = 0\n",
        " \n",
        "        # loop to calculate values of parent nodes\n",
        "        # from the children nodes of lower level\n",
        "        while (k < len(vec[i + 1]) - 1):\n",
        " \n",
        "            # store the value of parent node as\n",
        "            # Sum of children nodes\n",
        "            vec[i].append(vec[i + 1][k] +\n",
        "                          vec[i + 1][k + 1])\n",
        "            k += 2\n",
        " \n",
        "    Sum = 0\n",
        " \n",
        "    # traverse the list of vector\n",
        "    # and calculate the Sum\n",
        "    for i in range(l):\n",
        "        for j in range(len(vec[i])):\n",
        "            Sum += vec[i][j]\n",
        " \n",
        "    return Sum\n",
        " \n",
        "# Driver Code\n",
        "if __name__ == '__main__':\n",
        "    l = 3\n",
        " \n",
        "    print(SumNodes(l))"
      ],
      "metadata": {
        "colab": {
          "base_uri": "https://localhost:8080/"
        },
        "id": "lK2rEMe1HkSK",
        "outputId": "f405af86-e38f-4b7f-e298-216b8a0c468d"
      },
      "execution_count": 11,
      "outputs": [
        {
          "output_type": "stream",
          "name": "stdout",
          "text": [
            "30\n"
          ]
        }
      ]
    },
    {
      "cell_type": "markdown",
      "source": [
        "Count subtress that sum up to a given value x in a binary tree"
      ],
      "metadata": {
        "id": "bNVv3qKjH24G"
      }
    },
    {
      "cell_type": "code",
      "source": [
        "class Node:\n",
        " \n",
        "    def __init__(self, data):\n",
        " \n",
        "        self.data = data\n",
        "        self.left = None\n",
        "        self.right = None\n",
        " \n",
        "# Function to get a new node\n",
        " \n",
        " \n",
        "def getNode(data):\n",
        " \n",
        "    # Allocate space\n",
        "    newNode = Node(data)\n",
        "    return newNode\n",
        " \n",
        " \n",
        "count = 0\n",
        "ptr = None\n",
        " \n",
        "# Utility function to count subtrees that\n",
        "# sum up to a given value x\n",
        " \n",
        " \n",
        "def countSubtreesWithSumXUtil(root, x):\n",
        " \n",
        "    global count, ptr\n",
        " \n",
        "    l = 0\n",
        "    r = 0\n",
        " \n",
        "    if (root == None):\n",
        "        return 0\n",
        " \n",
        "    l += countSubtreesWithSumXUtil(root.left, x)\n",
        "    r += countSubtreesWithSumXUtil(root.right, x)\n",
        " \n",
        "    if (l + r + root.data == x):\n",
        "        count += 1\n",
        " \n",
        "    if (ptr != root):\n",
        "        return l + root.data + r\n",
        " \n",
        "    return count\n",
        " \n",
        " \n",
        "# Driver code\n",
        "if __name__ == '__main__':\n",
        " \n",
        "    ''' binary tree creation\n",
        "              5\n",
        "            /  \\\n",
        "          -10   3\n",
        "          / \\  / \\\n",
        "          9 8 -4 7\n",
        "    '''\n",
        " \n",
        "    root = getNode(5)\n",
        "    root.left = getNode(-10)\n",
        "    root.right = getNode(3)\n",
        "    root.left.left = getNode(9)\n",
        "    root.left.right = getNode(8)\n",
        "    root.right.left = getNode(-4)\n",
        "    root.right.right = getNode(7)\n",
        " \n",
        "    x = 7\n",
        "    ptr = root\n",
        " \n",
        "    print(\"Count = \" + str(countSubtreesWithSumXUtil(\n",
        "        root, x)))"
      ],
      "metadata": {
        "colab": {
          "base_uri": "https://localhost:8080/"
        },
        "id": "1GfOMjhXH6pH",
        "outputId": "a04e553d-97db-4483-ac27-a2f962803214"
      },
      "execution_count": 12,
      "outputs": [
        {
          "output_type": "stream",
          "name": "stdout",
          "text": [
            "Count = 2\n"
          ]
        }
      ]
    },
    {
      "cell_type": "markdown",
      "source": [
        "Find maximum level sum in Binary Tree"
      ],
      "metadata": {
        "id": "tQr3fqAnISAn"
      }
    },
    {
      "cell_type": "code",
      "source": [
        "from collections import deque\n",
        " \n",
        "# A binary tree node has data, pointer\n",
        "# to left child and a pointer to right\n",
        "# child\n",
        "class Node:\n",
        "     \n",
        "    def __init__(self, key):\n",
        "         \n",
        "        self.data = key\n",
        "        self.left = None\n",
        "        self.right = None\n",
        " \n",
        "# Function to find the maximum sum\n",
        "# of a level in tree\n",
        "# using level order traversal\n",
        "def maxLevelSum(root):\n",
        "     \n",
        "    # Base case\n",
        "    if (root == None):\n",
        "        return 0\n",
        " \n",
        "    # Initialize result\n",
        "    result = root.data\n",
        "     \n",
        "    # Do Level order traversal keeping\n",
        "    # track of number\n",
        "    # of nodes at every level.\n",
        "    q = deque()\n",
        "    q.append(root)\n",
        "     \n",
        "    while (len(q) > 0):\n",
        "         \n",
        "        # Get the size of queue when the\n",
        "        # level order traversal for one\n",
        "        # level finishes\n",
        "        count = len(q)\n",
        " \n",
        "        # Iterate for all the nodes in\n",
        "        # the queue currently\n",
        "        sum = 0\n",
        "        while (count > 0):\n",
        "             \n",
        "            # Dequeue an node from queue\n",
        "            temp = q.popleft()\n",
        " \n",
        "            # Add this node's value to current sum.\n",
        "            sum = sum + temp.data\n",
        " \n",
        "            # Enqueue left and right children of\n",
        "            # dequeued node\n",
        "            if (temp.left != None):\n",
        "                q.append(temp.left)\n",
        "            if (temp.right != None):\n",
        "                q.append(temp.right)\n",
        "                 \n",
        "            count -= 1   \n",
        " \n",
        "        # Update the maximum node count value\n",
        "        result = max(sum, result)\n",
        " \n",
        "    return result\n",
        "     \n",
        "# Driver code\n",
        "if __name__ == '__main__':\n",
        "     \n",
        "    root = Node(1)\n",
        "    root.left = Node(2)\n",
        "    root.right = Node(3)\n",
        "    root.left.left = Node(4)\n",
        "    root.left.right = Node(5)\n",
        "    root.right.right = Node(8)\n",
        "    root.right.right.left = Node(6)\n",
        "    root.right.right.right = Node(7)\n",
        " \n",
        "    # Constructed Binary tree is:\n",
        "    #              1\n",
        "    #            /   \\\n",
        "    #          2      3\n",
        "    #        /  \\      \\\n",
        "    #       4    5      8\n",
        "    #                 /   \\\n",
        "    #                6     7   \n",
        "    print(\"Maximum level sum is\", maxLevelSum(root))"
      ],
      "metadata": {
        "colab": {
          "base_uri": "https://localhost:8080/"
        },
        "id": "Pb6XIEHdIWsl",
        "outputId": "651ca1b0-9a13-437f-8c83-fe14b95446b5"
      },
      "execution_count": 13,
      "outputs": [
        {
          "output_type": "stream",
          "name": "stdout",
          "text": [
            "Maximum level sum is 17\n"
          ]
        }
      ]
    },
    {
      "cell_type": "markdown",
      "source": [
        "Print the nodes at odd levels of a tree"
      ],
      "metadata": {
        "id": "56JaOSc_I0go"
      }
    },
    {
      "cell_type": "code",
      "source": [
        "class newNode:\n",
        "    def __init__(self, data):\n",
        "        self.data = data\n",
        "        self.left = self.right = None\n",
        " \n",
        "def printOddNodes(root, isOdd = True):\n",
        "     \n",
        "    # If empty tree\n",
        "    if (root == None):\n",
        "        return\n",
        " \n",
        "    # If current node is of odd level\n",
        "    if (isOdd):\n",
        "        print(root.data, end = \" \")\n",
        " \n",
        "    # Recur for children with isOdd\n",
        "    # switched.\n",
        "    printOddNodes(root.left, not isOdd)\n",
        "    printOddNodes(root.right, not isOdd)\n",
        " \n",
        "# Driver code\n",
        "if __name__ == '__main__':\n",
        "    root = newNode(1)\n",
        "    root.left = newNode(2)\n",
        "    root.right = newNode(3)\n",
        "    root.left.left = newNode(4)\n",
        "    root.left.right = newNode(5)\n",
        "    printOddNodes(root)"
      ],
      "metadata": {
        "colab": {
          "base_uri": "https://localhost:8080/"
        },
        "id": "FC-0gZtwI234",
        "outputId": "33922057-7563-427c-e807-8b3829ca3b28"
      },
      "execution_count": 14,
      "outputs": [
        {
          "output_type": "stream",
          "name": "stdout",
          "text": [
            "1 4 5 "
          ]
        }
      ]
    }
  ]
}