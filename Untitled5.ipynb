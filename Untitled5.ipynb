{
  "nbformat": 4,
  "nbformat_minor": 0,
  "metadata": {
    "colab": {
      "provenance": [],
      "authorship_tag": "ABX9TyPGQtJKTTSRPtyRJ22Noyrc",
      "include_colab_link": true
    },
    "kernelspec": {
      "name": "python3",
      "display_name": "Python 3"
    },
    "language_info": {
      "name": "python"
    }
  },
  "cells": [
    {
      "cell_type": "markdown",
      "metadata": {
        "id": "view-in-github",
        "colab_type": "text"
      },
      "source": [
        "<a href=\"https://colab.research.google.com/github/preethimulupoju/-technical-coding-assignment/blob/main/Untitled5.ipynb\" target=\"_parent\"><img src=\"https://colab.research.google.com/assets/colab-badge.svg\" alt=\"Open In Colab\"/></a>"
      ]
    },
    {
      "cell_type": "code",
      "execution_count": 1,
      "metadata": {
        "colab": {
          "base_uri": "https://localhost:8080/"
        },
        "id": "t1NG1-2J81Vk",
        "outputId": "4668ea96-3b96-4599-daa8-156cb8a70e6e"
      },
      "outputs": [
        {
          "output_type": "stream",
          "name": "stdout",
          "text": [
            "Accuracy: 0.9886666666666667\n"
          ]
        }
      ],
      "source": [
        "# Import necessary libraries\n",
        "import pandas as pd\n",
        "from sklearn.preprocessing import LabelEncoder, StandardScaler\n",
        "from sklearn.model_selection import train_test_split\n",
        "from sklearn.ensemble import RandomForestClassifier\n",
        "from sklearn.metrics import accuracy_score\n",
        "\n",
        "# Load the dataset\n",
        "df = pd.read_csv('https://raw.githubusercontent.com/tranghth-lux/data-science-complete-tutorial/master/Data/HR_comma_sep.csv.txt')\n",
        "\n",
        "# Preprocessing the data\n",
        "# Encode categorical columns using LabelEncoder\n",
        "le = LabelEncoder()\n",
        "df['sales'] = le.fit_transform(df['sales'])\n",
        "df['salary'] = le.fit_transform(df['salary'])\n",
        "\n",
        "# Scale numerical columns using StandardScaler\n",
        "scaler = StandardScaler()\n",
        "df[['satisfaction_level', 'last_evaluation', 'average_montly_hours', 'time_spend_company']] = scaler.fit_transform(df[['satisfaction_level', 'last_evaluation', 'average_montly_hours', 'time_spend_company']])\n",
        "\n",
        "# Split the data into train and test sets\n",
        "X_train, X_test, y_train, y_test = train_test_split(df.drop('left', axis=1), df['left'], test_size=0.2, random_state=42)\n",
        "\n",
        "# Build the model\n",
        "rfc = RandomForestClassifier(n_estimators=100)\n",
        "rfc.fit(X_train, y_train)\n",
        "\n",
        "# Make predictions on test set\n",
        "y_pred = rfc.predict(X_test)\n",
        "\n",
        "# Evaluate the model performance\n",
        "accuracy = accuracy_score(y_test, y_pred)\n",
        "print('Accuracy:', accuracy)"
      ]
    },
    {
      "cell_type": "code",
      "source": [
        "# Import necessary libraries\n",
        "import pandas as pd\n",
        "from sklearn.linear_model import LinearRegression\n",
        "from sklearn.model_selection import train_test_split\n",
        "\n",
        "# Load the dataset\n",
        "df = pd.read_csv('https://drive.google.com/u/0/uc?id=1mSkKEe0SUJ7AZHiubxKSke7HWf75JA_Z&export=download')\n",
        "\n",
        "# Drop unnecessary columns\n",
        "df = df.drop(['OGC', 'DC', 'UC', 'JF', 'EI', 'YT'], axis=1)\n",
        "\n",
        "# Convert categorical columns to numerical using one-hot encoding\n",
        "df = pd.get_dummies(df, columns=['OG', 'Dept', 'Union', 'Job'])\n",
        "\n",
        "# Split the data into train and test sets\n",
        "X_train, X_test, y_train, y_test = train_test_split(df.drop('Total_Compensation', axis=1), df['Total_Compensation'], test_size=0.2, random_state=42)\n",
        "\n",
        "# Build the model\n",
        "lr = LinearRegression()\n",
        "lr.fit(X_train, y_train)\n",
        "\n",
        "# Make predictions on test set\n",
        "y_pred = lr.predict(X_test)\n",
        "\n",
        "# Add predicted 'Total Compensation' column to the test set\n",
        "X_test['Total_Compensation_Predicted'] = y_pred\n",
        "\n",
        "# Display the test set with predicted 'Total Compensation' column\n",
        "print(X_test[['Salaries', 'Overtime', 'H/D', 'Total_Compensation_Predicted']].head(10))"
      ],
      "metadata": {
        "colab": {
          "base_uri": "https://localhost:8080/"
        },
        "id": "yWUIYwna9jVa",
        "outputId": "db03448f-bf75-4ecf-8160-428cde916c5b"
      },
      "execution_count": 2,
      "outputs": [
        {
          "output_type": "stream",
          "name": "stdout",
          "text": [
            "        Salaries  Overtime          H/D  Total_Compensation_Predicted\n",
            "37188      64670     14082  13483.42000                 118267.809448\n",
            "43547      38108         0  10230.58000                  60808.147095\n",
            "128478     54756         0  12918.24848                  86022.044678\n",
            "106956       748         0    269.89000                   -335.658203\n",
            "157292     73379         0  12500.56000                 108432.360962\n",
            "61370      69857         0  12410.67000                 102414.930664\n",
            "285307         0         0     12.86000                   4755.055054\n",
            "131637     60781         0  12801.79000                  92185.768677\n",
            "204983     28955         0   6787.18000                  44796.569580\n",
            "158603    231480         0  12424.50000                 318447.900269\n"
          ]
        }
      ]
    }
  ]
}