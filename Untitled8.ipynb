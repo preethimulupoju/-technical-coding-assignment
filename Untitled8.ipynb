{
  "nbformat": 4,
  "nbformat_minor": 0,
  "metadata": {
    "colab": {
      "provenance": [],
      "authorship_tag": "ABX9TyPIDQjdQefNIVL4tnqcqdaJ",
      "include_colab_link": true
    },
    "kernelspec": {
      "name": "python3",
      "display_name": "Python 3"
    },
    "language_info": {
      "name": "python"
    }
  },
  "cells": [
    {
      "cell_type": "markdown",
      "metadata": {
        "id": "view-in-github",
        "colab_type": "text"
      },
      "source": [
        "<a href=\"https://colab.research.google.com/github/preethimulupoju/-technical-coding-assignment/blob/main/Untitled8.ipynb\" target=\"_parent\"><img src=\"https://colab.research.google.com/assets/colab-badge.svg\" alt=\"Open In Colab\"/></a>"
      ]
    },
    {
      "cell_type": "markdown",
      "source": [],
      "metadata": {
        "id": "gx6BKmgNLPSz"
      }
    },
    {
      "cell_type": "markdown",
      "source": [
        "Implement Binary Search"
      ],
      "metadata": {
        "id": "aWYdsImRLQ9D"
      }
    },
    {
      "cell_type": "code",
      "source": [
        "def binarySearch(arr, l, r, x):\n",
        " \n",
        "    while l <= r:\n",
        " \n",
        "        mid = l + (r - l) // 2\n",
        " \n",
        "        # Check if x is present at mid\n",
        "        if arr[mid] == x:\n",
        "            return mid\n",
        " \n",
        "        # If x is greater, ignore left half\n",
        "        elif arr[mid] < x:\n",
        "            l = mid + 1\n",
        " \n",
        "        # If x is smaller, ignore right half\n",
        "        else:\n",
        "            r = mid - 1\n",
        " \n",
        "    # If we reach here, then the element\n",
        "    # was not present\n",
        "    return -1\n",
        " \n",
        " \n",
        "# Driver Code\n",
        "if __name__ == '__main__':\n",
        "    arr = [2, 3, 4, 10, 40]\n",
        "    x = 10\n",
        " \n",
        "    # Function call\n",
        "    result = binarySearch(arr, 0, len(arr)-1, x)\n",
        "    if result != -1:\n",
        "        print(\"Element is present at index\", result)\n",
        "    else:\n",
        "        print(\"Element is not present in array\")"
      ],
      "metadata": {
        "colab": {
          "base_uri": "https://localhost:8080/"
        },
        "id": "KaEmBSlz0jYM",
        "outputId": "194cdfcf-e6e0-4b6c-f064-0d8ebd819cc8"
      },
      "execution_count": 1,
      "outputs": [
        {
          "output_type": "stream",
          "name": "stdout",
          "text": [
            "Element is present at index 3\n"
          ]
        }
      ]
    },
    {
      "cell_type": "markdown",
      "source": [
        "Implement Merge Sort"
      ],
      "metadata": {
        "id": "yGT6z1RO08_X"
      }
    },
    {
      "cell_type": "code",
      "source": [
        "def mergeSort(arr):\n",
        "    if len(arr) > 1:\n",
        " \n",
        "         # Finding the mid of the array\n",
        "        mid = len(arr)//2\n",
        " \n",
        "        # Dividing the array elements\n",
        "        L = arr[:mid]\n",
        " \n",
        "        # into 2 halves\n",
        "        R = arr[mid:]\n",
        " \n",
        "        # Sorting the first half\n",
        "        mergeSort(L)\n",
        " \n",
        "        # Sorting the second half\n",
        "        mergeSort(R)\n",
        " \n",
        "        i = j = k = 0\n",
        " \n",
        "        # Copy data to temp arrays L[] and R[]\n",
        "        while i < len(L) and j < len(R):\n",
        "            if L[i] <= R[j]:\n",
        "                arr[k] = L[i]\n",
        "                i += 1\n",
        "            else:\n",
        "                arr[k] = R[j]\n",
        "                j += 1\n",
        "            k += 1\n",
        " \n",
        "        # Checking if any element was left\n",
        "        while i < len(L):\n",
        "            arr[k] = L[i]\n",
        "            i += 1\n",
        "            k += 1\n",
        " \n",
        "        while j < len(R):\n",
        "            arr[k] = R[j]\n",
        "            j += 1\n",
        "            k += 1\n",
        " \n",
        "# Code to print the list\n",
        " \n",
        " \n",
        "def printList(arr):\n",
        "    for i in range(len(arr)):\n",
        "        print(arr[i], end=\" \")\n",
        "    print()\n",
        " \n",
        " \n",
        "# Driver Code\n",
        "if __name__ == '__main__':\n",
        "    arr = [12, 11, 13, 5, 6, 7]\n",
        "    print(\"Given array is\", end=\"\\n\")\n",
        "    printList(arr)\n",
        "    mergeSort(arr)\n",
        "    print(\"Sorted array is: \", end=\"\\n\")\n",
        "    printList(arr)"
      ],
      "metadata": {
        "colab": {
          "base_uri": "https://localhost:8080/"
        },
        "id": "dWV4eVEi1B7e",
        "outputId": "f24fc24d-48a0-4b7b-8423-8ee4336cd835"
      },
      "execution_count": 2,
      "outputs": [
        {
          "output_type": "stream",
          "name": "stdout",
          "text": [
            "Given array is\n",
            "12 11 13 5 6 7 \n",
            "Sorted array is: \n",
            "5 6 7 11 12 13 \n"
          ]
        }
      ]
    },
    {
      "cell_type": "markdown",
      "source": [
        "Implement Quick Sort"
      ],
      "metadata": {
        "id": "jK8WgnIV1cEZ"
      }
    },
    {
      "cell_type": "code",
      "source": [
        "def partition(array, low, high):\n",
        " \n",
        "    # Choose the rightmost element as pivot\n",
        "    pivot = array[high]\n",
        " \n",
        "    # Pointer for greater element\n",
        "    i = low - 1\n",
        " \n",
        "    # Traverse through all elements\n",
        "    # compare each element with pivot\n",
        "    for j in range(low, high):\n",
        "        if array[j] <= pivot:\n",
        " \n",
        "            # If element smaller than pivot is found\n",
        "            # swap it with the greater element pointed by i\n",
        "            i = i + 1\n",
        " \n",
        "            # Swapping element at i with element at j\n",
        "            (array[i], array[j]) = (array[j], array[i])\n",
        " \n",
        "    # Swap the pivot element with\n",
        "    # the greater element specified by i\n",
        "    (array[i + 1], array[high]) = (array[high], array[i + 1])\n",
        " \n",
        "    # Return the position from where partition is done\n",
        "    return i + 1\n",
        " \n",
        " \n",
        "# Function to perform quicksort\n",
        "def quicksort(array, low, high):\n",
        "    if low < high:\n",
        " \n",
        "        # Find pivot element such that\n",
        "        # element smaller than pivot are on the left\n",
        "        # element greater than pivot are on the right\n",
        "        pi = partition(array, low, high)\n",
        " \n",
        "        # Recursive call on the left of pivot\n",
        "        quicksort(array, low, pi - 1)\n",
        " \n",
        "        # Recursive call on the right of pivot\n",
        "        quicksort(array, pi + 1, high)\n",
        " \n",
        " \n",
        "# Driver code\n",
        "if __name__ == '__main__':\n",
        "    array = [10, 7, 8, 9, 1, 5]\n",
        "    N = len(array)\n",
        " \n",
        "    # Function call\n",
        "    quicksort(array, 0, N - 1)\n",
        "    print('Sorted array:')\n",
        "    for x in array:\n",
        "        print(x, end=\" \")\n",
        " "
      ],
      "metadata": {
        "colab": {
          "base_uri": "https://localhost:8080/"
        },
        "id": "9Za2elnv1fiS",
        "outputId": "55e6b715-68d0-4fdf-92e9-09d046872f6a"
      },
      "execution_count": 3,
      "outputs": [
        {
          "output_type": "stream",
          "name": "stdout",
          "text": [
            "Sorted array:\n",
            "1 5 7 8 9 10 "
          ]
        }
      ]
    },
    {
      "cell_type": "markdown",
      "source": [
        "Implement Insertion Sort"
      ],
      "metadata": {
        "id": "XtVNik-l161C"
      }
    },
    {
      "cell_type": "code",
      "source": [
        "def insertionSort(array):\n",
        "\n",
        "    for step in range(1, len(array)):\n",
        "        key = array[step]\n",
        "        j = step - 1\n",
        "        \n",
        "        # Compare key with each element on the left of it until an element smaller than it is found\n",
        "        # For descending order, change key<array[j] to key>array[j].        \n",
        "        while j >= 0 and key < array[j]:\n",
        "            array[j + 1] = array[j]\n",
        "            j = j - 1\n",
        "        \n",
        "        # Place key at after the element just smaller than it.\n",
        "        array[j + 1] = key\n",
        "\n",
        "\n",
        "data = [9, 5, 1, 4, 3]\n",
        "insertionSort(data)\n",
        "print('Sorted Array in Ascending Order:')\n",
        "print(data)"
      ],
      "metadata": {
        "colab": {
          "base_uri": "https://localhost:8080/"
        },
        "id": "Tbo6kwdc1_ZB",
        "outputId": "77c31018-e63c-4570-d1d9-49e5f40f938e"
      },
      "execution_count": 4,
      "outputs": [
        {
          "output_type": "stream",
          "name": "stdout",
          "text": [
            "Sorted Array in Ascending Order:\n",
            "[1, 3, 4, 5, 9]\n"
          ]
        }
      ]
    },
    {
      "cell_type": "markdown",
      "source": [
        "Write a program to sort list of strings (similar to that of dictionary)"
      ],
      "metadata": {
        "id": "XZxrTqQi2L4i"
      }
    },
    {
      "cell_type": "code",
      "source": [
        "lst = ['23', '33', '11', '7', '55']\n",
        " \n",
        "# Using sort() function with key as int\n",
        "lst.sort(key = int)\n",
        " \n",
        "print(lst)"
      ],
      "metadata": {
        "colab": {
          "base_uri": "https://localhost:8080/"
        },
        "id": "xAEUp4Gn2SNx",
        "outputId": "6da25b13-9626-41a9-fd54-fad6b30532ea"
      },
      "execution_count": 5,
      "outputs": [
        {
          "output_type": "stream",
          "name": "stdout",
          "text": [
            "['7', '11', '23', '33', '55']\n"
          ]
        }
      ]
    }
  ]
}